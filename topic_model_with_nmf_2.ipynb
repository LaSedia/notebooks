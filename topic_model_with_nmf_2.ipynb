{
 "metadata": {
  "name": "",
  "signature": "sha256:7f3271640ab16b17bb1fbd2c20731e3ae5833451f71e9e2ccbbb188ef5e3275e"
 },
 "nbformat": 3,
 "nbformat_minor": 0,
 "worksheets": [
  {
   "cells": [
    {
     "cell_type": "heading",
     "level": 1,
     "metadata": {},
     "source": [
      "TOPIC MODELING II"
     ]
    },
    {
     "cell_type": "markdown",
     "metadata": {},
     "source": [
      "&nbsp;&nbsp;&nbsp;&nbsp;&nbsp;&nbsp;Este c\u00f3digo se baseia em um exemplo de **Grisel & Buitinck** do pacote _scikit learn_"
     ]
    },
    {
     "cell_type": "code",
     "collapsed": false,
     "input": [
      "from time import time\n",
      "from sklearn.feature_extraction.text import TfidfVectorizer\n",
      "from sklearn.decomposition import NMF\n",
      "from sklearn.datasets import fetch_20newsgroups\n",
      "\n",
      "n_samples = 2000\n",
      "n_features = 1000\n",
      "n_topics = 10\n",
      "n_top_words = 20\n",
      "\n",
      "t0 = time()\n",
      "print \"Carregando o corpus\"\n",
      "\n",
      "dataset = fetch_20newsgroups(shuffle=True, random_state=1, remove=('headers', 'footers', 'quotes'))\n",
      "\n",
      "corpus = dataset.data[:n_samples]\n",
      "# for f in dataset.data:\n",
      "#     print '\\n#################################'\n",
      "#     print f.strip()\n",
      "#     print '###################################'"
     ],
     "language": "python",
     "metadata": {},
     "outputs": [
      {
       "output_type": "stream",
       "stream": "stdout",
       "text": [
        "Carregando o corpus\n"
       ]
      }
     ],
     "prompt_number": 49
    },
    {
     "cell_type": "code",
     "collapsed": false,
     "input": [
      "print \"carregando as features em um vetor TF-IDF\"\n",
      "vectorizer = TfidfVectorizer(max_df=0.95, min_df=2, max_features=n_features, stop_words='english')\n",
      "\n",
      "tfidf = vectorizer.fit_transform(corpus)\n",
      "\n",
      "print \"terminado em %0.3fs.\" % (time() - t0)"
     ],
     "language": "python",
     "metadata": {},
     "outputs": [
      {
       "output_type": "stream",
       "stream": "stdout",
       "text": [
        "carregando as features em um vetor TF-IDF\n",
        "terminado em 2.592s."
       ]
      },
      {
       "output_type": "stream",
       "stream": "stdout",
       "text": [
        "\n"
       ]
      }
     ],
     "prompt_number": 50
    },
    {
     "cell_type": "code",
     "collapsed": false,
     "input": [
      "# Fit the NMF model\n",
      "print \"Ajustando o modelo NMF com n_samples=%d e n_features=%d ...\\n\" % (n_samples, n_features)\n",
      "\n",
      "nmf = NMF(n_components=n_topics, random_state=1).fit(tfidf)\n",
      "print \"terminado em %0.3fs.\" % (time() - t0)\n",
      "\n",
      "print 'TF IDF shape', tfidf.shape\n",
      "print 'components shape:', nmf.components_.shape\n",
      "print nmf.components_\n",
      "\n"
     ],
     "language": "python",
     "metadata": {},
     "outputs": [
      {
       "output_type": "stream",
       "stream": "stdout",
       "text": [
        "\tAjustando o modelo NMF com n_samples=2000 e n_features=1000 ...\n",
        "\n",
        "terminado em 4427.459s."
       ]
      },
      {
       "output_type": "stream",
       "stream": "stdout",
       "text": [
        "\n",
        "TF IDF shape (2000, 1000)\n",
        "components shape: (10, 1000)\n",
        "[[ 0.          0.04842267  0.         ...,  0.12304761  0.01875739\n",
        "   0.07667154]\n",
        " [ 0.          0.          0.         ...,  0.          0.00737335  0.        ]\n",
        " [ 0.          0.01412313  0.         ...,  0.01802372  0.00906201\n",
        "   0.01317645]\n",
        " ..., \n",
        " [ 0.          0.09879147  0.         ...,  0.00490208  0.          0.        ]\n",
        " [ 0.          0.          0.         ...,  0.07978946  0.          0.        ]\n",
        " [ 0.          0.          0.         ...,  0.          0.          0.        ]]\n"
       ]
      }
     ],
     "prompt_number": 55
    },
    {
     "cell_type": "code",
     "collapsed": false,
     "input": [
      "feature_names = vectorizer.get_feature_names()\n",
      "\n",
      "for topic_idx, topic in enumerate(nmf.components_):\n",
      "    \n",
      "    sorted_topic_words = topic.argsort()[:-n_top_words - 1:-1]\n",
      "    \n",
      "    print \"\\nT\u00f3pico #%d:\" % topic_idx    \n",
      "    for s in sorted_topic_words:\n",
      "        print feature_names[s],\n",
      "    print '\\n'    "
     ],
     "language": "python",
     "metadata": {},
     "outputs": [
      {
       "output_type": "stream",
       "stream": "stdout",
       "text": [
        "(1000,)\n",
        "\n",
        "T\u00f3pico #0:\n",
        "people just don think like know say did really make time way ve right going sure said got wrong didn \n",
        "\n",
        "(1000,)\n",
        "\n",
        "T\u00f3pico #1:\n",
        "windows file dos use using program window files problem help pc running application version drivers ftp screen available work ms \n",
        "\n",
        "(1000,)\n",
        "\n",
        "T\u00f3pico #2:\n",
        "game team year games win play season players runs ll good toronto defense division teams won better player goal best \n",
        "\n",
        "(1000,)\n",
        "\n",
        "T\u00f3pico #3:\n",
        "thanks know does mail advance hi info interested anybody email like looking help card need appreciated hello information list send \n",
        "\n",
        "(1000,)\n",
        "\n",
        "T\u00f3pico #4:\n",
        "god jesus bible does faith christian christ christians church believe life lord true religion love human man belief people good \n",
        "\n",
        "(1000,)\n",
        "\n",
        "T\u00f3pico #5:\n",
        "drive drives hard disk card software mac power apple pc problem computer memory external speed board internal problems work monitor \n",
        "\n",
        "(1000,)\n",
        "\n",
        "T\u00f3pico #6:\n",
        "10 00 space new 11 12 15 16 20 18 25 17 sale earth 13 93 22 24 23 years \n",
        "\n",
        "(1000,)\n",
        "\n",
        "T\u00f3pico #7:\n",
        "car bike good cars engine new power speed miles buy price used like year want driving area bought just models \n",
        "\n",
        "(1000,)\n",
        "\n",
        "T\u00f3pico #8:\n",
        "key chip government clipper encryption keys use public law enforcement secure phone data used security communications secret standard going clinton \n",
        "\n",
        "(1000,)\n",
        "\n",
        "T\u00f3pico #9:\n",
        "edu com banks soon internet send ftp university mail information article pub mac student contact cc server address email list \n",
        "\n"
       ]
      }
     ],
     "prompt_number": 54
    },
    {
     "cell_type": "code",
     "collapsed": false,
     "input": [],
     "language": "python",
     "metadata": {},
     "outputs": []
    }
   ],
   "metadata": {}
  }
 ]
}